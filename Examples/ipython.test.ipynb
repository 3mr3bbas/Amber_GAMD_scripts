#%% Change working directory from the workspace root to the ipynb file location. Turn this addition off with the DataScience.changeDirOnImportExport setting
import os
try:
	os.chdir(os.path.join(os.getcwd(), '2_MD/1_amber/4_gamd'))
	print(os.getcwd())
except:
	pass

print('hello')

